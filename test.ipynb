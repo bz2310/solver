{
 "cells": [
  {
   "cell_type": "code",
   "execution_count": 2,
   "metadata": {
    "vscode": {
     "languageId": "rust"
    }
   },
   "outputs": [
    {
     "name": "stdout",
     "output_type": "stream",
     "text": [
      "The current directory is /home/bzhan/projects/postflop-solver\n",
      "Successfully changed working directory to /home/bzhan/projects/postflop-solver!\n"
     ]
    }
   ],
   "source": [
    "use std::env;\n",
    "use std::path::Path;\n",
    "\n",
    "fn main() -> std::io::Result<()> {\n",
    "    let path = env::current_dir()?;\n",
    "    println!(\"The current directory is {}\", path.display());\n",
    "    Ok(())\n",
    "}\n",
    "main();\n",
    "\n",
    "let path = Path::new(\"/home/bzhan/projects/postflop-solver\");\n",
    "assert!(env::set_current_dir(&path).is_ok());\n",
    "println!(\"Successfully changed working directory to {}!\", path.display());"
   ]
  },
  {
   "cell_type": "code",
   "execution_count": 3,
   "metadata": {
    "vscode": {
     "languageId": "rust"
    }
   },
   "outputs": [],
   "source": [
    ":dep postflop-solver = { path = \"/home/bzhan/projects/postflop-solver\" }\n",
    "use postflop_solver::*;"
   ]
  },
  {
   "cell_type": "code",
   "execution_count": 119,
   "metadata": {
    "vscode": {
     "languageId": "rust"
    }
   },
   "outputs": [],
   "source": [
    "pub struct GameManager {\n",
    "    game: PostFlopGame,\n",
    "}\n",
    "\n",
    "//#[inline]\n",
    "fn decode_action(action: &str) -> Action {\n",
    "    match action {\n",
    "        \"F\" => Action::Fold,\n",
    "        \"X\" => Action::Check,\n",
    "        \"C\" => Action::Call,\n",
    "        _ => {\n",
    "            let mut chars = action.chars();\n",
    "            let first_char = chars.next().unwrap();\n",
    "            let amount = chars.as_str().parse().unwrap();\n",
    "            match first_char {\n",
    "                'B' => Action::Bet(amount),\n",
    "                'R' => Action::Raise(amount),\n",
    "                'A' => Action::AllIn(amount),\n",
    "                _ => unreachable!(),\n",
    "            }\n",
    "        }\n",
    "    }\n",
    "}\n",
    "\n",
    "//#[inline]\n",
    "fn round(value: f64) -> f64 {\n",
    "    if value < 1.0 {\n",
    "        (value * 1000000.0).round() / 1000000.0\n",
    "    } else if value < 10.0 {\n",
    "        (value * 100000.0).round() / 100000.0\n",
    "    } else if value < 100.0 {\n",
    "        (value * 10000.0).round() / 10000.0\n",
    "    } else if value < 1000.0 {\n",
    "        (value * 1000.0).round() / 1000.0\n",
    "    } else if value < 10000.0 {\n",
    "        (value * 100.0).round() / 100.0\n",
    "    } else {\n",
    "        (value * 10.0).round() / 10.0\n",
    "    }\n",
    "}\n",
    "\n",
    "//#[inline]\n",
    "fn round_iter<'a>(iter: impl Iterator<Item = &'a f32> + 'a) -> impl Iterator<Item = f64> + 'a {\n",
    "    iter.map(|&x| round(x as f64))\n",
    "}\n",
    "\n",
    "//#[inline]\n",
    "pub fn weighted_average(slice: &[f32], weights: &[f32]) -> f64 {\n",
    "    let mut sum = 0.0;\n",
    "    let mut weight_sum = 0.0;\n",
    "    for (&value, &weight) in slice.iter().zip(weights.iter()) {\n",
    "        sum += value as f64 * weight as f64;\n",
    "        weight_sum += weight as f64;\n",
    "    }\n",
    "    sum / weight_sum\n",
    "}\n",
    "\n",
    "//#[wasm_bindgen]\n",
    "impl GameManager {\n",
    "    pub fn new() -> Self {\n",
    "        Self {\n",
    "            game: PostFlopGame::new(),\n",
    "        }\n",
    "    }\n",
    "\n",
    "    pub fn init(\n",
    "        &mut self,\n",
    "        oop_range: &[f32],\n",
    "        ip_range: &[f32],\n",
    "        board: &[u8],\n",
    "        starting_pot: i32,\n",
    "        effective_stack: i32,\n",
    "        rake_rate: f64,\n",
    "        rake_cap: f64,\n",
    "        donk_option: bool,\n",
    "        oop_flop_bet: &str,\n",
    "        oop_flop_raise: &str,\n",
    "        oop_turn_bet: &str,\n",
    "        oop_turn_raise: &str,\n",
    "        oop_turn_donk: &str,\n",
    "        oop_river_bet: &str,\n",
    "        oop_river_raise: &str,\n",
    "        oop_river_donk: &str,\n",
    "        ip_flop_bet: &str,\n",
    "        ip_flop_raise: &str,\n",
    "        ip_turn_bet: &str,\n",
    "        ip_turn_raise: &str,\n",
    "        ip_river_bet: &str,\n",
    "        ip_river_raise: &str,\n",
    "        add_allin_threshold: f64,\n",
    "        force_allin_threshold: f64,\n",
    "        merging_threshold: f64,\n",
    "        added_lines: &str,\n",
    "        removed_lines: &str,\n",
    "    ) -> Option<String> {\n",
    "        let (turn, river, state) = match board.len() {\n",
    "            3 => (NOT_DEALT, NOT_DEALT, BoardState::Flop),\n",
    "            4 => (board[3], NOT_DEALT, BoardState::Turn),\n",
    "            5 => (board[3], board[4], BoardState::River),\n",
    "            _ => return Some(\"Invalid board length\".to_string()),\n",
    "        };\n",
    "\n",
    "        let card_config = CardConfig {\n",
    "            range: [\n",
    "                Range::from_raw_data(oop_range).unwrap(),\n",
    "                Range::from_raw_data(ip_range).unwrap(),\n",
    "            ],\n",
    "            flop: board[..3].try_into().unwrap(),\n",
    "            turn,\n",
    "            river,\n",
    "        };\n",
    "\n",
    "        let tree_config = TreeConfig {\n",
    "            initial_state: state,\n",
    "            starting_pot,\n",
    "            effective_stack,\n",
    "            rake_rate,\n",
    "            rake_cap,\n",
    "            flop_bet_sizes: [\n",
    "                BetSizeOptions::try_from((oop_flop_bet, oop_flop_raise)).unwrap(),\n",
    "                BetSizeOptions::try_from((ip_flop_bet, ip_flop_raise)).unwrap(),\n",
    "            ],\n",
    "            turn_bet_sizes: [\n",
    "                BetSizeOptions::try_from((oop_turn_bet, oop_turn_raise)).unwrap(),\n",
    "                BetSizeOptions::try_from((ip_turn_bet, ip_turn_raise)).unwrap(),\n",
    "            ],\n",
    "            river_bet_sizes: [\n",
    "                BetSizeOptions::try_from((oop_river_bet, oop_river_raise)).unwrap(),\n",
    "                BetSizeOptions::try_from((ip_river_bet, ip_river_raise)).unwrap(),\n",
    "            ],\n",
    "            turn_donk_sizes: match donk_option {\n",
    "                false => None,\n",
    "                true => DonkSizeOptions::try_from(oop_turn_donk).ok(),\n",
    "            },\n",
    "            river_donk_sizes: match donk_option {\n",
    "                false => None,\n",
    "                true => DonkSizeOptions::try_from(oop_river_donk).ok(),\n",
    "            },\n",
    "            add_allin_threshold,\n",
    "            force_allin_threshold,\n",
    "            merging_threshold,\n",
    "        };\n",
    "\n",
    "        let mut action_tree = ActionTree::new(tree_config).unwrap();\n",
    "\n",
    "        if !added_lines.is_empty() {\n",
    "            for added_line in added_lines.split(',') {\n",
    "                let line = added_line\n",
    "                    .split(&['-', '|'][..])\n",
    "                    .map(decode_action)\n",
    "                    .collect::<Vec<_>>();\n",
    "                if action_tree.add_line(&line).is_err() {\n",
    "                    return Some(\"Failed to add line (loaded broken tree?)\".to_string());\n",
    "                }\n",
    "            }\n",
    "        }\n",
    "\n",
    "        if !removed_lines.is_empty() {\n",
    "            for removed_line in removed_lines.split(',') {\n",
    "                let line = removed_line\n",
    "                    .split(&['-', '|'][..])\n",
    "                    .map(decode_action)\n",
    "                    .collect::<Vec<_>>();\n",
    "                if action_tree.remove_line(&line).is_err() {\n",
    "                    return Some(\"Failed to remove line (loaded broken tree?)\".to_string());\n",
    "                }\n",
    "            }\n",
    "        }\n",
    "\n",
    "        self.game.update_config(card_config, action_tree).err()\n",
    "    }\n",
    "\n",
    "    pub fn private_cards(&self, player: usize) -> Box<[u16]> {\n",
    "        let cards = self.game.private_cards(player);\n",
    "        cards\n",
    "            .iter()\n",
    "            .map(|&(c1, c2)| c1 as u16 | ((c2 as u16) << 8))\n",
    "            .collect()\n",
    "    }\n",
    "\n",
    "    pub fn memory_usage(&self, enable_compression: bool) -> u64 {\n",
    "        if !enable_compression {\n",
    "            self.game.memory_usage().0\n",
    "        } else {\n",
    "            self.game.memory_usage().1\n",
    "        }\n",
    "    }\n",
    "\n",
    "    pub fn allocate_memory(&mut self, enable_compression: bool) {\n",
    "        self.game.allocate_memory(enable_compression);\n",
    "    }\n",
    "\n",
    "    pub fn solve_step(&self, current_iteration: u32) {\n",
    "        unsafe {\n",
    "\n",
    "            solve_step(&self.game, current_iteration);\n",
    "\n",
    "        }\n",
    "    }\n",
    "\n",
    "    pub fn exploitability(&self) -> f32 {\n",
    "        unsafe {\n",
    "            compute_exploitability(&self.game)\n",
    "\n",
    "        }\n",
    "    }\n",
    "\n",
    "    pub fn finalize(&mut self) {\n",
    "        unsafe {\n",
    "            \n",
    "            finalize(&mut self.game);\n",
    "            \n",
    "        }\n",
    "    }\n",
    "\n",
    "    pub fn apply_history(&mut self, history: &[usize]) {\n",
    "        self.game.apply_history(history);\n",
    "    }\n",
    "\n",
    "    pub fn total_bet_amount(&mut self, append: &[usize]) -> Box<[u32]> {\n",
    "        if append.is_empty() {\n",
    "            let total_bet_amount = self.game.total_bet_amount();\n",
    "            return total_bet_amount.iter().map(|&x| x as u32).collect();\n",
    "        }\n",
    "        let history = self.game.history().to_vec();\n",
    "        for &action in append {\n",
    "            self.game.play(action);\n",
    "        }\n",
    "        let total_bet_amount = self.game.total_bet_amount();\n",
    "        let ret = total_bet_amount.iter().map(|&x| x as u32).collect();\n",
    "        self.game.apply_history(&history);\n",
    "        ret\n",
    "    }\n",
    "\n",
    "    pub fn current_player(&self) -> String {\n",
    "        if self.game.is_terminal_node() {\n",
    "            \"terminal\".to_string()\n",
    "        } else if self.game.is_chance_node() {\n",
    "            \"chance\".to_string()\n",
    "        } else if self.game.current_player() == 0 {\n",
    "            \"oop\".to_string()\n",
    "        } else {\n",
    "            \"ip\".to_string()\n",
    "        }\n",
    "    }\n",
    "\n",
    "    pub fn num_actions(&self) -> usize {\n",
    "        self.game.available_actions().len()\n",
    "    }\n",
    "\n",
    "    fn actions(&self) -> String {\n",
    "        if self.game.is_terminal_node() {\n",
    "            \"terminal\".to_string()\n",
    "        } else if self.game.is_chance_node() {\n",
    "            \"chance\".to_string()\n",
    "        } else {\n",
    "            self.game\n",
    "                .available_actions()\n",
    "                .iter()\n",
    "                .map(|&x| match x {\n",
    "                    Action::Fold => \"Fold:0\".to_string(),\n",
    "                    Action::Check => \"Check:0\".to_string(),\n",
    "                    Action::Call => \"Call:0\".to_string(),\n",
    "                    Action::Bet(amount) => format!(\"Bet:{amount}\"),\n",
    "                    Action::Raise(amount) => format!(\"Raise:{amount}\"),\n",
    "                    Action::AllIn(amount) => format!(\"Allin:{amount}\"),\n",
    "                    _ => unreachable!(),\n",
    "                })\n",
    "                .collect::<Vec<_>>()\n",
    "                .join(\"/\")\n",
    "        }\n",
    "    }\n",
    "\n",
    "    pub fn actions_after(&mut self, append: &[usize]) -> String {\n",
    "        if append.is_empty() {\n",
    "            return self.actions();\n",
    "        }\n",
    "        let history = self.game.history().to_vec();\n",
    "        for &action in append {\n",
    "            self.game.play(action);\n",
    "        }\n",
    "        let ret = self.actions();\n",
    "        self.game.apply_history(&history);\n",
    "        ret\n",
    "    }\n",
    "\n",
    "    pub fn possible_cards(&self) -> u64 {\n",
    "        self.game.possible_cards()\n",
    "    }\n",
    "\n",
    "    pub fn get_results(&mut self) -> Box<[f64]> {\n",
    "        let game = &mut self.game;\n",
    "        let mut buf = Vec::new();\n",
    "\n",
    "        let total_bet_amount = game.total_bet_amount();\n",
    "        let pot_base = game.tree_config().starting_pot + total_bet_amount.iter().min().unwrap();\n",
    "\n",
    "        buf.push((pot_base + total_bet_amount[0]) as f64);\n",
    "        buf.push((pot_base + total_bet_amount[1]) as f64);\n",
    "\n",
    "        let trunc = |&w: &f32| if w < 0.0005 { 0.0 } else { w };\n",
    "        let weights = [\n",
    "            game.weights(0).iter().map(trunc).collect::<Vec<_>>(),\n",
    "            game.weights(1).iter().map(trunc).collect::<Vec<_>>(),\n",
    "        ];\n",
    "\n",
    "        let is_empty = |player: usize| weights[player].iter().all(|&w| w == 0.0);\n",
    "        let is_empty_flag = is_empty(0) as usize + 2 * is_empty(1) as usize;\n",
    "        buf.push(is_empty_flag as f64);\n",
    "\n",
    "        buf.extend(round_iter(weights[0].iter()));\n",
    "        buf.extend(round_iter(weights[1].iter()));\n",
    "\n",
    "        if is_empty_flag > 0 {\n",
    "            buf.extend(round_iter(weights[0].iter()));\n",
    "            buf.extend(round_iter(weights[1].iter()));\n",
    "        } else {\n",
    "            game.cache_normalized_weights();\n",
    "\n",
    "            buf.extend(round_iter(game.normalized_weights(0).iter()));\n",
    "            buf.extend(round_iter(game.normalized_weights(1).iter()));\n",
    "\n",
    "            let equity = [game.equity(0), game.equity(1)];\n",
    "            let ev = [game.expected_values(0), game.expected_values(1)];\n",
    "\n",
    "            buf.extend(round_iter(equity[0].iter()));\n",
    "            buf.extend(round_iter(equity[1].iter()));\n",
    "            buf.extend(round_iter(ev[0].iter()));\n",
    "            buf.extend(round_iter(ev[1].iter()));\n",
    "\n",
    "            for player in 0..2 {\n",
    "                let pot = (pot_base + total_bet_amount[player]) as f64;\n",
    "                for (&eq, &ev) in equity[player].iter().zip(ev[player].iter()) {\n",
    "                    let (eq, ev) = (eq as f64, ev as f64);\n",
    "                    if eq < 5e-7 {\n",
    "                        buf.push(ev / 0.0);\n",
    "                    } else {\n",
    "                        buf.push(round(ev / (pot * eq)));\n",
    "                    }\n",
    "                }\n",
    "            }\n",
    "        }\n",
    "\n",
    "        if !game.is_terminal_node() && !game.is_chance_node() {\n",
    "            buf.extend(round_iter(game.strategy().iter()));\n",
    "            if is_empty_flag == 0 {\n",
    "                buf.extend(round_iter(\n",
    "                    game.expected_values_detail(game.current_player()).iter(),\n",
    "                ));\n",
    "            }\n",
    "        }\n",
    "\n",
    "        buf.into_boxed_slice()\n",
    "    }\n",
    "\n",
    "    pub fn get_chance_reports(&mut self, append: &[usize], num_actions: usize) -> Box<[f64]> {\n",
    "        let game = &mut self.game;\n",
    "        let history = game.history().to_vec();\n",
    "\n",
    "        let mut status = vec![0.0; 52]; // 0: not possible, 1: empty, 2: not empty\n",
    "        let mut combos = [vec![0.0; 52], vec![0.0; 52]];\n",
    "        let mut equity = [vec![0.0; 52], vec![0.0; 52]];\n",
    "        let mut ev = [vec![0.0; 52], vec![0.0; 52]];\n",
    "        let mut eqr = [vec![0.0; 52], vec![0.0; 52]];\n",
    "        let mut strategy = vec![0.0; num_actions * 52];\n",
    "\n",
    "        let possible_cards = game.possible_cards();\n",
    "        for chance in 0..52 {\n",
    "            if possible_cards & (1 << chance) == 0 {\n",
    "                continue;\n",
    "            }\n",
    "\n",
    "            game.play(chance);\n",
    "            for &action in &append[1..] {\n",
    "                game.play(action);\n",
    "            }\n",
    "\n",
    "            let trunc = |&w: &f32| if w < 0.0005 { 0.0 } else { w };\n",
    "            let weights = [\n",
    "                game.weights(0).iter().map(trunc).collect::<Vec<_>>(),\n",
    "                game.weights(1).iter().map(trunc).collect::<Vec<_>>(),\n",
    "            ];\n",
    "\n",
    "            combos[0][chance] = round(weights[0].iter().fold(0.0, |acc, &w| acc + w as f64));\n",
    "            combos[1][chance] = round(weights[1].iter().fold(0.0, |acc, &w| acc + w as f64));\n",
    "\n",
    "            let is_empty = |player: usize| weights[player].iter().all(|&w| w == 0.0);\n",
    "            let is_empty_flag = [is_empty(0), is_empty(1)];\n",
    "\n",
    "            game.cache_normalized_weights();\n",
    "            let normalizer = [game.normalized_weights(0), game.normalized_weights(1)];\n",
    "\n",
    "            if !game.is_terminal_node() {\n",
    "                let current_player = game.current_player();\n",
    "                if !is_empty_flag[current_player] {\n",
    "                    let strategy_tmp = game.strategy();\n",
    "                    let num_hands = game.private_cards(current_player).len();\n",
    "                    let ws = if is_empty_flag[current_player ^ 1] {\n",
    "                        &weights[current_player]\n",
    "                    } else {\n",
    "                        normalizer[current_player]\n",
    "                    };\n",
    "                    for action in 0..num_actions {\n",
    "                        let slice = &strategy_tmp[action * num_hands..(action + 1) * num_hands];\n",
    "                        let strategy_summary = weighted_average(slice, ws);\n",
    "                        strategy[action * 52 + chance] = round(strategy_summary);\n",
    "                    }\n",
    "                }\n",
    "            }\n",
    "\n",
    "            if is_empty_flag[0] || is_empty_flag[1] {\n",
    "                status[chance] = 1.0;\n",
    "                game.apply_history(&history);\n",
    "                continue;\n",
    "            }\n",
    "\n",
    "            status[chance] = 2.0;\n",
    "\n",
    "            let total_bet_amount = game.total_bet_amount();\n",
    "            let pot_base = game.tree_config().starting_pot + total_bet_amount.iter().min().unwrap();\n",
    "\n",
    "            for player in 0..2 {\n",
    "                let pot = (pot_base + total_bet_amount[player]) as f32;\n",
    "                let equity_tmp = weighted_average(&game.equity(player), normalizer[player]);\n",
    "                let ev_tmp = weighted_average(&game.expected_values(player), normalizer[player]);\n",
    "                equity[player][chance] = round(equity_tmp);\n",
    "                ev[player][chance] = round(ev_tmp);\n",
    "                eqr[player][chance] = round(ev_tmp / (pot as f64 * equity_tmp));\n",
    "            }\n",
    "\n",
    "            game.apply_history(&history);\n",
    "        }\n",
    "\n",
    "        let mut buf = Vec::new();\n",
    "\n",
    "        buf.extend_from_slice(&status);\n",
    "        buf.extend_from_slice(&combos[0]);\n",
    "        buf.extend_from_slice(&combos[1]);\n",
    "        buf.extend_from_slice(&equity[0]);\n",
    "        buf.extend_from_slice(&equity[1]);\n",
    "        buf.extend_from_slice(&ev[0]);\n",
    "        buf.extend_from_slice(&ev[1]);\n",
    "        buf.extend_from_slice(&eqr[0]);\n",
    "        buf.extend_from_slice(&eqr[1]);\n",
    "        buf.extend_from_slice(&strategy);\n",
    "\n",
    "        buf.into_boxed_slice()\n",
    "    }\n",
    "}"
   ]
  },
  {
   "cell_type": "code",
   "execution_count": 11,
   "metadata": {
    "vscode": {
     "languageId": "rust"
    }
   },
   "outputs": [],
   "source": [
    ":dep polars = { version = \"0.22\" }"
   ]
  },
  {
   "cell_type": "code",
   "execution_count": 12,
   "metadata": {
    "vscode": {
     "languageId": "rust"
    }
   },
   "outputs": [],
   "source": [
    "use polars::prelude::*;"
   ]
  },
  {
   "cell_type": "code",
   "execution_count": 11,
   "metadata": {
    "vscode": {
     "languageId": "rust"
    }
   },
   "outputs": [],
   "source": [
    "use std::mem::MaybeUninit;\n",
    "use std::slice;"
   ]
  },
  {
   "cell_type": "code",
   "execution_count": 120,
   "metadata": {
    "vscode": {
     "languageId": "rust"
    }
   },
   "outputs": [
    {
     "data": {
      "text/plain": [
       "[0, 0]"
      ]
     },
     "execution_count": 120,
     "metadata": {},
     "output_type": "execute_result"
    }
   ],
   "source": [
    "game.total_bet_amount()"
   ]
  },
  {
   "cell_type": "code",
   "execution_count": 87,
   "metadata": {
    "vscode": {
     "languageId": "rust"
    }
   },
   "outputs": [],
   "source": [
    "use polars::prelude::*;\n",
    "use std::collections::HashMap;\n",
    "\n",
    "fn main() -> PostFlopGame { //Result<(DataFrame, DataFrame)> {\n",
    "    // ranges of OOP and IP in string format\n",
    "    // see the documentation of `Range` for more details about the format\n",
    "    let oop_range = \"66+,A8s+,A5s-A4s,AJo+,K9s+,KQo,QTs+,JTs,96s+,85s+,75s+,65s,54s\";\n",
    "    let ip_range = \"QQ-22,AQs-A2s,ATo+,K5s+,KJo+,Q8s+,J8s+,T7s+,96s+,86s+,75s+,64s+,53s+\";\n",
    "\n",
    "    let card_config = CardConfig {\n",
    "        range: [oop_range.parse().unwrap(), ip_range.parse().unwrap()],\n",
    "        flop: flop_from_str(\"Td9d6h\").unwrap(),\n",
    "        turn: card_from_str(\"Qc\").unwrap(),\n",
    "        river: NOT_DEALT,\n",
    "    };\n",
    "\n",
    "    // bet sizes -> 60% of the pot, geometric size, and all-in\n",
    "    // raise sizes -> 2.5x of the previous bet\n",
    "    // see the documentation of `BetSizeOptions` for more details\n",
    "    let bet_sizes = BetSizeOptions::try_from((\"60%, e, a\", \"2.5x\")).unwrap();\n",
    "\n",
    "    let tree_config = TreeConfig {\n",
    "        initial_state: BoardState::Turn, // must match `card_config`\n",
    "        starting_pot: 200,\n",
    "        effective_stack: 900,\n",
    "        rake_rate: 0.0,\n",
    "        rake_cap: 0.0,\n",
    "        flop_bet_sizes: [bet_sizes.clone(), bet_sizes.clone()], // [OOP, IP]\n",
    "        turn_bet_sizes: [bet_sizes.clone(), bet_sizes.clone()],\n",
    "        river_bet_sizes: [bet_sizes.clone(), bet_sizes],\n",
    "        turn_donk_sizes: None, // use default bet sizes\n",
    "        river_donk_sizes: Some(DonkSizeOptions::try_from(\"50%\").unwrap()),\n",
    "        add_allin_threshold: 1.5, // add all-in if (maximum bet size) <= 1.5x pot\n",
    "        force_allin_threshold: 0.15, // force all-in if (SPR after the opponent's call) <= 0.15\n",
    "        merging_threshold: 0.1,\n",
    "    };\n",
    "\n",
    "    // build the game tree\n",
    "    // `ActionTree` can be edited manually after construction\n",
    "    let action_tree = ActionTree::new(tree_config).unwrap();\n",
    "    let mut game = PostFlopGame::with_config(card_config, action_tree).unwrap();\n",
    "\n",
    "    // obtain the private hands\n",
    "    let oop_cards: &[(u8, u8)] = game.private_cards(0);\n",
    "    let oop_cards_str = holes_to_strings(oop_cards).unwrap();\n",
    "    println!(\"{:?}\", oop_cards_str);\n",
    "\n",
    "    let ip_cards = game.private_cards(1);\n",
    "    let ip_cards_str = holes_to_strings(ip_cards).unwrap();\n",
    "    println!(\"{:?}\", ip_cards_str);\n",
    "    \n",
    "    let (mem_usage, mem_usage_compressed) = game.memory_usage();\n",
    "    println!(\n",
    "        \"Memory usage without compression (32-bit float): {:.2}GB\",\n",
    "        mem_usage as f64 / (1024.0 * 1024.0 * 1024.0)\n",
    "    );\n",
    "    println!(\n",
    "        \"Memory usage with compression (16-bit integer): {:.2}GB\",\n",
    "        mem_usage_compressed as f64 / (1024.0 * 1024.0 * 1024.0)\n",
    "    );\n",
    "\n",
    "    game.allocate_memory(false);\n",
    "\n",
    "    let max_num_iterations = 1000;\n",
    "    let target_exploitability = game.tree_config().starting_pot as f32 * 0.005; // 0.5% of the pot\n",
    "    println!(\"Target exploitability: {:.2}\", target_exploitability);\n",
    "    //let exploitability = solve(&mut game, max_num_iterations, target_exploitability, true);\n",
    "    //println!(\"Exploitability: {:.2}\", exploitability);\n",
    "    \n",
    "    let mut last_exploit = 1000.0;\n",
    "    for i in 0..max_num_iterations {\n",
    "        solve_step(&game, i);\n",
    "        if (i + 1) % 100 == 0 {\n",
    "            let exploitability = compute_exploitability(&game);\n",
    "            println!(\"Exploitability on iteration {}: {:.2}\", i, exploitability);\n",
    "            if ((last_exploit - exploitability) < 0.01) {\n",
    "                break\n",
    "            }\n",
    "            last_exploit=exploitability;\n",
    "        }\n",
    "     }\n",
    "    finalize(&mut game);\n",
    "    game.cache_normalized_weights();\n",
    "    game\n",
    "    }"
   ]
  },
  {
   "cell_type": "code",
   "execution_count": 88,
   "metadata": {
    "vscode": {
     "languageId": "rust"
    }
   },
   "outputs": [
    {
     "name": "stdout",
     "output_type": "stream",
     "text": [
      "[\"5c4c\", \"Ac4c\", \"5d4d\", \"Ad4d\", \"5h4h\", \"Ah4h\", \"5s4s\", \"As4s\", \"6c5c\", \"7c5c\", \"8c5c\", \"Ac5c\", \"6d5d\", \"7d5d\", \"8d5d\", \"Ad5d\", \"7h5h\", \"8h5h\", \"Ah5h\", \"6s5s\", \"7s5s\", \"8s5s\", \"As5s\", \"6d6c\", \"6s6c\", \"7c6c\", \"8c6c\", \"9c6c\", \"6s6d\", \"7d6d\", \"8d6d\", \"7s6s\", \"8s6s\", \"9s6s\", \"7d7c\", \"7h7c\", \"7s7c\", \"8c7c\", \"9c7c\", \"7h7d\", \"7s7d\", \"8d7d\", \"7s7h\", \"8h7h\", \"9h7h\", \"8s7s\", \"9s7s\", \"8d8c\", \"8h8c\", \"8s8c\", \"9c8c\", \"Ac8c\", \"8h8d\", \"8s8d\", \"Ad8d\", \"8s8h\", \"9h8h\", \"Ah8h\", \"9s8s\", \"As8s\", \"9h9c\", \"9s9c\", \"Kc9c\", \"Ac9c\", \"9s9h\", \"Kh9h\", \"Ah9h\", \"Ks9s\", \"As9s\", \"ThTc\", \"TsTc\", \"JcTc\", \"KcTc\", \"AcTc\", \"TsTh\", \"JhTh\", \"QhTh\", \"KhTh\", \"AhTh\", \"JsTs\", \"QsTs\", \"KsTs\", \"AsTs\", \"JdJc\", \"JhJc\", \"JsJc\", \"KcJc\", \"AcJc\", \"AdJc\", \"AhJc\", \"AsJc\", \"JhJd\", \"JsJd\", \"QdJd\", \"KdJd\", \"AcJd\", \"AdJd\", \"AhJd\", \"AsJd\", \"JsJh\", \"QhJh\", \"KhJh\", \"AcJh\", \"AdJh\", \"AhJh\", \"AsJh\", \"QsJs\", \"KsJs\", \"AcJs\", \"AdJs\", \"AhJs\", \"AsJs\", \"QhQd\", \"QsQd\", \"KcQd\", \"KdQd\", \"KhQd\", \"KsQd\", \"AcQd\", \"AdQd\", \"AhQd\", \"AsQd\", \"QsQh\", \"KcQh\", \"KdQh\", \"KhQh\", \"KsQh\", \"AcQh\", \"AdQh\", \"AhQh\", \"AsQh\", \"KcQs\", \"KdQs\", \"KhQs\", \"KsQs\", \"AcQs\", \"AdQs\", \"AhQs\", \"AsQs\", \"KdKc\", \"KhKc\", \"KsKc\", \"AcKc\", \"AdKc\", \"AhKc\", \"AsKc\", \"KhKd\", \"KsKd\", \"AcKd\", \"AdKd\", \"AhKd\", \"AsKd\", \"KsKh\", \"AcKh\", \"AdKh\", \"AhKh\", \"AsKh\", \"AcKs\", \"AdKs\", \"AhKs\", \"AsKs\", \"AdAc\", \"AhAc\", \"AsAc\", \"AhAd\", \"AsAd\", \"AsAh\"]\n",
      "[\"2d2c\", \"2h2c\", \"2s2c\", \"Ac2c\", \"2h2d\", \"2s2d\", \"Ad2d\", \"2s2h\", \"Ah2h\", \"As2s\", \"3d3c\", \"3h3c\", \"3s3c\", \"5c3c\", \"Ac3c\", \"3h3d\", \"3s3d\", \"5d3d\", \"Ad3d\", \"3s3h\", \"5h3h\", \"Ah3h\", \"5s3s\", \"As3s\", \"4d4c\", \"4h4c\", \"4s4c\", \"5c4c\", \"6c4c\", \"Ac4c\", \"4h4d\", \"4s4d\", \"5d4d\", \"6d4d\", \"Ad4d\", \"4s4h\", \"5h4h\", \"Ah4h\", \"5s4s\", \"6s4s\", \"As4s\", \"5d5c\", \"5h5c\", \"5s5c\", \"6c5c\", \"7c5c\", \"Kc5c\", \"Ac5c\", \"5h5d\", \"5s5d\", \"6d5d\", \"7d5d\", \"Kd5d\", \"Ad5d\", \"5s5h\", \"7h5h\", \"Kh5h\", \"Ah5h\", \"6s5s\", \"7s5s\", \"Ks5s\", \"As5s\", \"6d6c\", \"6s6c\", \"7c6c\", \"8c6c\", \"9c6c\", \"Kc6c\", \"Ac6c\", \"6s6d\", \"7d6d\", \"8d6d\", \"Kd6d\", \"Ad6d\", \"7s6s\", \"8s6s\", \"9s6s\", \"Ks6s\", \"As6s\", \"7d7c\", \"7h7c\", \"7s7c\", \"8c7c\", \"9c7c\", \"Tc7c\", \"Kc7c\", \"Ac7c\", \"7h7d\", \"7s7d\", \"8d7d\", \"Kd7d\", \"Ad7d\", \"7s7h\", \"8h7h\", \"9h7h\", \"Th7h\", \"Kh7h\", \"Ah7h\", \"8s7s\", \"9s7s\", \"Ts7s\", \"Ks7s\", \"As7s\", \"8d8c\", \"8h8c\", \"8s8c\", \"9c8c\", \"Tc8c\", \"Jc8c\", \"Kc8c\", \"Ac8c\", \"8h8d\", \"8s8d\", \"Jd8d\", \"Qd8d\", \"Kd8d\", \"Ad8d\", \"8s8h\", \"9h8h\", \"Th8h\", \"Jh8h\", \"Qh8h\", \"Kh8h\", \"Ah8h\", \"9s8s\", \"Ts8s\", \"Js8s\", \"Qs8s\", \"Ks8s\", \"As8s\", \"9h9c\", \"9s9c\", \"Tc9c\", \"Jc9c\", \"Kc9c\", \"Ac9c\", \"9s9h\", \"Th9h\", \"Jh9h\", \"Qh9h\", \"Kh9h\", \"Ah9h\", \"Ts9s\", \"Js9s\", \"Qs9s\", \"Ks9s\", \"As9s\", \"ThTc\", \"TsTc\", \"JcTc\", \"KcTc\", \"AcTc\", \"AdTc\", \"AhTc\", \"AsTc\", \"TsTh\", \"JhTh\", \"QhTh\", \"KhTh\", \"AcTh\", \"AdTh\", \"AhTh\", \"AsTh\", \"JsTs\", \"QsTs\", \"KsTs\", \"AcTs\", \"AdTs\", \"AhTs\", \"AsTs\", \"JdJc\", \"JhJc\", \"JsJc\", \"KcJc\", \"KdJc\", \"KhJc\", \"KsJc\", \"AcJc\", \"AdJc\", \"AhJc\", \"AsJc\", \"JhJd\", \"JsJd\", \"QdJd\", \"KcJd\", \"KdJd\", \"KhJd\", \"KsJd\", \"AcJd\", \"AdJd\", \"AhJd\", \"AsJd\", \"JsJh\", \"QhJh\", \"KcJh\", \"KdJh\", \"KhJh\", \"KsJh\", \"AcJh\", \"AdJh\", \"AhJh\", \"AsJh\", \"QsJs\", \"KcJs\", \"KdJs\", \"KhJs\", \"KsJs\", \"AcJs\", \"AdJs\", \"AhJs\", \"AsJs\", \"QhQd\", \"QsQd\", \"KcQd\", \"KdQd\", \"KhQd\", \"KsQd\", \"AcQd\", \"AdQd\", \"AhQd\", \"AsQd\", \"QsQh\", \"KcQh\", \"KdQh\", \"KhQh\", \"KsQh\", \"AcQh\", \"AdQh\", \"AhQh\", \"AsQh\", \"KcQs\", \"KdQs\", \"KhQs\", \"KsQs\", \"AcQs\", \"AdQs\", \"AhQs\", \"AsQs\", \"AdKc\", \"AhKc\", \"AsKc\", \"AcKd\", \"AhKd\", \"AsKd\", \"AcKh\", \"AdKh\", \"AsKh\", \"AcKs\", \"AdKs\", \"AhKs\"]\n",
      "Memory usage without compression (32-bit float): 0.01GB\n",
      "Memory usage with compression (16-bit integer): 0.01GB\n",
      "Target exploitability: 1.00\n",
      "Exploitability on iteration 99: 0.91\n",
      "Exploitability on iteration 199: 0.26\n",
      "Exploitability on iteration 299: 0.18\n",
      "Exploitability on iteration 399: 0.11\n",
      "Exploitability on iteration 499: 0.07\n",
      "Exploitability on iteration 599: 0.05\n",
      "Exploitability on iteration 699: 0.04\n",
      "Exploitability on iteration 799: 0.03\n"
     ]
    }
   ],
   "source": [
    "let game = main();"
   ]
  },
  {
   "cell_type": "code",
   "execution_count": null,
   "metadata": {
    "vscode": {
     "languageId": "rust"
    }
   },
   "outputs": [],
   "source": [
    "let game_manager = GameManager"
   ]
  },
  {
   "cell_type": "code",
   "execution_count": 89,
   "metadata": {
    "vscode": {
     "languageId": "rust"
    }
   },
   "outputs": [],
   "source": [
    "fn get_summary_results(game: &PostFlopGame, player: usize) -> Result<DataFrame> {\n",
    "    \n",
    "    let cards: &[(u8, u8)] = game.private_cards(0);\n",
    "    let cards = holes_to_strings(cards).unwrap();\n",
    "\n",
    "    let df = DataFrame::new(vec![Series::new(\"cards\", cards),\n",
    "                                Series::new(\"equities\", game.equity(player)),\n",
    "                                Series::new(\"ev\", game.expected_values(player)),\n",
    "                                ]);\n",
    "    df\n",
    "    }"
   ]
  },
  {
   "cell_type": "code",
   "execution_count": 90,
   "metadata": {
    "vscode": {
     "languageId": "rust"
    }
   },
   "outputs": [],
   "source": [
    "let df = get_summary_results(&game, 0).unwrap();"
   ]
  },
  {
   "cell_type": "code",
   "execution_count": 125,
   "metadata": {
    "vscode": {
     "languageId": "rust"
    }
   },
   "outputs": [
    {
     "data": {
      "text/plain": [
       "[Check, Bet(120), Bet(216), AllIn(900)]"
      ]
     },
     "execution_count": 125,
     "metadata": {},
     "output_type": "execute_result"
    }
   ],
   "source": [
    "game.available_actions()"
   ]
  },
  {
   "cell_type": "code",
   "execution_count": 124,
   "metadata": {
    "vscode": {
     "languageId": "rust"
    }
   },
   "outputs": [
    {
     "data": {
      "text/plain": [
       "[1.0, 1.0, 1.0, 0.71588075, 1.0, 1.0, 1.0, 1.0, 1.0, 1.0, 0.9953119, 1.0, 1.0, 0.85327226, 0.8749109, 0.62204856, 1.0, 0.987974, 1.0, 1.0, 1.0, 0.98707914, 1.0, 0.93600404, 0.8920549, 1.0, 0.9549574, 1.0, 0.94264114, 1.0, 1.0, 1.0, 0.9488522, 1.0, 1.0, 1.0, 1.0, 1.0, 1.0, 1.0, 1.0, 0.8443695, 1.0, 0.99116343, 1.0, 0.9968253, 1.0, 0.9998112, 1.0, 1.0, 0.97357374, 1.0, 0.99023443, 0.9996586, 0.88673925, 1.0, 0.9620509, 1.0, 0.97078687, 1.0, 0.9441761, 0.9579969, 0.9983525, 1.0, 0.95118165, 0.9959878, 1.0, 0.9987659, 1.0, 0.920293, 0.91568303, 0.95350397, 0.9821082, 1.0, 0.9470038, 0.9657281, 0.9070017, 0.976139, 1.0, 0.9665586, 0.9083563, 0.9764885, 1.0, 0.98828316, 0.9926432, 0.99206525, 0.87265116, 0.9772743, 0.9297537, 0.96468717, 0.9748185, 0.98236996, 0.98178464, 0.98596877, 0.775991, 0.9325051, 0.8487213, 0.94705766, 0.93697757, 0.98449725, 0.9763883, 0.8740373, 0.9709897, 0.9361752, 0.97486246, 0.96973157, 0.975599, 0.87483835, 0.9721491, 0.9483482, 0.9736682, 0.97216266, 0.96465486, 0.96214366, 0.9888493, 0.98913133, 0.9995734, 0.9983743, 0.9871974, 0.98913646, 0.99537176, 0.9872053, 0.98138154, 0.9997686, 0.9820033, 0.99709356, 0.9999931, 0.99933475, 1.0, 1.0, 0.9990012, 0.99999934, 0.98027384, 0.9966272, 1.0, 0.9996872, 1.0, 1.0, 0.9993991, 0.88840836, 0.7718676, 0.845167, 0.9999309, 0.92801464, 0.95536816, 0.95169866, 0.877016, 0.88674355, 0.8620633, 0.9357936, 0.87309116, 0.86018246, 0.76674134, 0.97463167, 0.936056, 0.99607295, 0.9741796, 0.945731, 0.94871813, 0.9444034, 0.9959669, 0.9690364, 0.98569244, 0.9898763, 0.97292036, 0.97011185, 0.98467386, 0.0, 0.0, 0.0, 0.28410554, 0.0, 0.0, 0.0, 0.0, 0.0, 0.0, 0.004688069, 0.0, 0.0, 0.14662991, 0.12508905, 0.3777081, 0.0, 0.012026004, 0.0, 0.0, 0.0, 0.012920874, 0.0, 0.06399597, 0.10786164, 0.0, 0.045042604, 0.0, 0.057358913, 0.0, 0.0, 0.0, 0.051147856, 0.0, 0.0, 0.0, 0.0, 0.0, 0.0, 0.0, 0.0, 0.15563057, 0.0, 0.008836501, 0.0, 0.0031747483, 0.0, 0.0001888226, 0.0, 0.0, 0.026426177, 0.0, 0.009765623, 0.00034134442, 0.11326083, 0.0, 0.0379491, 0.0, 0.029213099, 0.0, 0.055823874, 0.042003077, 0.0016474458, 0.0, 0.048818342, 0.0039905, 0.0, 0.0012093369, 0.0, 0.07969236, 0.08430914, 0.046496045, 0.017855883, 0.0, 0.05293036, 0.034271885, 0.09296086, 0.023829667, 0.0, 0.033441503, 0.09161755, 0.023500077, 0.0, 0.011716773, 0.0073568635, 0.007934815, 0.12731875, 0.022724712, 0.07024584, 0.03531284, 0.025180958, 0.017630016, 0.0182153, 0.014031245, 0.22379047, 0.067461565, 0.1510871, 0.052900277, 0.06293228, 0.015502734, 0.02361169, 0.12579371, 0.028981602, 0.06382273, 0.025137596, 0.03026754, 0.024401054, 0.12513597, 0.027850829, 0.051650718, 0.026331786, 0.027836809, 0.035341628, 0.03783296, 0.011127898, 0.010868637, 0.00042654906, 0.0016256865, 0.012795902, 0.010863511, 0.0046282467, 0.0127932625, 0.018618427, 0.00023137455, 0.017990591, 0.002906449, 6.884798e-6, 0.00066519337, 0.0, 0.0, 0.0009988191, 6.590307e-7, 0.01972069, 0.003372759, 0.0, 0.0003127726, 0.0, 0.0, 0.0006008552, 0.11159106, 0.2281324, 0.15483299, 6.90702e-5, 0.07197091, 0.04463184, 0.0483013, 0.122978345, 0.11325649, 0.13783298, 0.06420637, 0.12690137, 0.1396933, 0.23325865, 0.025368337, 0.06392062, 0.003927037, 0.025820354, 0.05426902, 0.051280536, 0.0555966, 0.0040330775, 0.030963661, 0.0143075185, 0.01012372, 0.027079651, 0.029888136, 0.01532611, 0.0, 0.0, 0.0, 1.37838515e-5, 0.0, 0.0, 0.0, 0.0, 0.0, 0.0, 0.0, 0.0, 0.0, 9.780384e-5, 0.0, 0.00024335188, 0.0, 0.0, 0.0, 0.0, 0.0, 0.0, 0.0, 0.0, 8.340928e-5, 0.0, 0.0, 0.0, 0.0, 0.0, 0.0, 0.0, 0.0, 0.0, 0.0, 0.0, 0.0, 0.0, 0.0, 0.0, 0.0, 0.0, 0.0, 0.0, 0.0, 0.0, 0.0, 0.0, 0.0, 0.0, 0.0, 0.0, 0.0, 0.0, 0.0, 0.0, 0.0, 0.0, 0.0, 0.0, 0.0, 0.0, 3.5137602e-9, 0.0, 0.0, 2.166064e-5, 0.0, 2.4775502e-5, 0.0, 1.4589706e-5, 7.777006e-6, 0.0, 3.6004236e-5, 0.0, 6.58205e-5, 0.0, 3.7415048e-5, 3.1311323e-5, 0.0, 0.0, 2.615069e-5, 1.1417029e-5, 0.0, 0.0, 0.0, 0.0, 3.0042758e-5, 1.0475983e-6, 4.3679148e-7, 0.0, 6.025978e-7, 0.0, 0.0, 0.0, 0.00021858166, 3.342356e-5, 0.00019163812, 4.205448e-5, 9.0219175e-5, 0.0, 0.0, 0.00016903908, 2.858252e-5, 1.968461e-6, 0.0, 8.525716e-7, 0.0, 2.5752499e-5, 1.5720619e-7, 1.1566634e-6, 0.0, 4.9118654e-7, 3.6049069e-6, 2.3328297e-5, 2.2782211e-5, 0.0, 8.640715e-9, 2.166065e-9, 6.6630314e-6, 0.0, 0.0, 1.3548649e-6, 0.0, 0.0, 6.092489e-6, 0.0, 0.0, 0.0, 0.0, 0.0, 0.0, 0.0, 5.473431e-6, 0.0, 0.0, 0.0, 0.0, 0.0, 0.0, 5.086513e-7, 0.0, 0.0, 0.0, 1.4469027e-5, 0.0, 0.0, 5.59731e-6, 0.0, 0.00010374883, 0.0, 7.4423706e-6, 0.0001241666, 2.2770205e-8, 0.0, 2.3318598e-5, 0.0, 0.0, 0.0, 1.3783336e-6, 0.0, 0.0, 0.0, 0.0, 0.0, 0.0, 0.0, 0.0, 0.0, 0.0, 0.0, 0.0, 0.0, 0.0, 0.0, 0.0, 0.0, 0.0, 0.0, 0.0, 0.0, 0.0, 0.0, 0.0, 0.0, 0.0, 0.0, 0.0, 0.0, 0.0, 0.0, 0.0, 0.0, 0.0, 0.0, 0.0, 0.0, 0.0, 0.0, 0.0, 0.0, 0.0, 0.0, 0.0, 0.0, 0.0, 0.0, 0.0, 0.0, 0.0, 0.0, 0.0, 0.0, 0.0, 0.0, 0.0, 0.0, 0.0, 0.0, 0.0, 0.0, 0.0, 0.0, 0.0, 0.0, 0.0, 0.0, 0.0, 0.0, 0.0, 0.0, 0.0, 0.0, 0.0, 0.0, 0.0, 0.0, 0.0, 0.0, 0.0, 0.0, 0.0, 0.0, 0.0, 0.0, 0.0, 0.0, 0.0, 0.0, 0.0, 0.0, 0.0, 0.0, 0.0, 0.0, 0.0, 0.0, 0.0, 0.0, 0.0, 0.0, 0.0, 0.0, 0.0, 0.0, 0.0, 0.0, 0.0, 0.0, 0.0, 0.0, 0.0, 0.0, 0.0, 0.0, 0.0, 0.0, 0.0, 0.0, 0.0, 0.0, 0.0, 0.0, 0.0, 0.0, 0.0, 0.0, 0.0, 0.0, 0.0, 0.0, 0.0, 0.0, 0.0, 0.0, 0.0, 0.0, 0.0, 0.0, 0.0, 0.0, 0.0, 0.0, 0.0, 0.0, 0.0, 0.0, 0.0, 0.0, 0.0, 0.0, 0.0, 0.0, 0.0, 0.0, 0.0, 0.0, 0.0, 0.0, 0.0, 0.0, 0.0, 0.0, 0.0, 0.0, 0.0, 0.0, 0.0, 0.0, 0.0, 0.0, 0.0, 0.0, 0.0, 0.0]"
      ]
     },
     "execution_count": 124,
     "metadata": {},
     "output_type": "execute_result"
    }
   ],
   "source": [
    "game.strategy()"
   ]
  },
  {
   "cell_type": "code",
   "execution_count": 102,
   "metadata": {
    "vscode": {
     "languageId": "rust"
    }
   },
   "outputs": [],
   "source": [
    "let df = df.sort(&[\"equities\"], false);"
   ]
  },
  {
   "cell_type": "code",
   "execution_count": 107,
   "metadata": {
    "vscode": {
     "languageId": "rust"
    }
   },
   "outputs": [],
   "source": [
    "let temp = game.expected_values_detail(0);"
   ]
  },
  {
   "cell_type": "code",
   "execution_count": 108,
   "metadata": {
    "vscode": {
     "languageId": "rust"
    }
   },
   "outputs": [
    {
     "data": {
      "text/plain": [
       "[7.2928925, 9.656242, 37.93551, 49.983677, 8.407669, 10.280182, 7.226166, 9.629585, 36.481293, 16.831856, 26.808998, 10.036087, 88.799126, 47.71793, 70.840744, 47.9371, 17.82743, 28.096786, 10.771851, 36.531956, 16.813042, 26.924706, 9.985283, 198.79034, 194.18616, 41.850883, 50.90303, 129.34781, 199.03705, 103.85331, 123.861824, 41.895752, 51.197323, 130.49225, 42.898697, 42.705307, 41.676636, 231.5001, 54.566875, 43.936672, 42.87659, 274.02652, 42.67466, 229.39102, 55.852688, 228.61932, 55.095848, 57.380108, 57.117523, 57.083763, 63.80998, 29.471077, 58.44825, 57.823715, 86.60676, 57.54947, 65.0066, 29.948265, 64.74892, 29.633957, 211.59901, 210.14326, 64.18255, 55.639984, 210.7778, 64.63568, 56.703953, 64.60837, 55.915524, 228.13548, 228.08398, 93.38702, 73.6064, 69.18296, 226.21735, 94.405045, 152.87408, 74.86527, 70.949, 94.45374, 152.73645, 74.55195, 70.11565, 117.4682, 114.94987, 114.745705, 356.87756, 36.555374, 42.100204, 37.0091, 36.542854, 117.35219, 117.155815, 183.98015, 385.34305, 38.683037, 113.33495, 39.22942, 38.68287, 114.642494, 121.29016, 356.21295, 36.825703, 42.594444, 37.42433, 36.82681, 121.16812, 356.27866, 36.844086, 42.64454, 37.431477, 36.838043, 247.61723, 247.44131, 111.60599, 177.06555, 112.3441, 111.69822, 98.57439, 173.89987, 99.405594, 98.57516, 241.51276, 110.37003, 115.1042, 110.82601, 110.30323, 97.60969, 104.58469, 98.4397, 97.60762, 110.36424, 115.08825, 110.797585, 110.28764, 97.73235, 104.70071, 98.56557, 97.72963, 138.31618, 133.3939, 132.851, 26.686638, 32.088463, 27.375153, 27.0037, 138.75961, 138.27904, 27.967247, 101.75869, 28.358109, 27.943916, 133.35355, 27.067009, 32.045326, 27.093208, 27.048111, 27.046532, 32.11875, 27.400894, 26.686523, 103.375305, 98.44396, 97.828606, 104.19282, 103.37943, 98.44417, 0.12950897, -1.9930191, 36.5496, 49.977486, 1.8086548, -0.5338669, 0.12890625, -2.0186462, 27.870827, 12.503708, 26.81015, -4.562195, 80.96535, 47.721798, 70.83696, 47.92933, 13.283691, 28.104301, -3.0509338, 27.76847, 12.381813, 26.91658, -4.5801697, 198.78662, 194.1833, 37.602383, 50.90142, 127.299255, 199.0386, 92.60059, 112.73305, 37.58436, 51.189747, 128.95259, 38.57029, 35.16774, 35.09188, 229.46155, 52.121918, 38.343044, 38.476826, 274.0177, 35.016365, 229.38428, 51.994762, 228.6101, 52.859875, 57.36288, 55.722652, 54.75297, 63.80372, 27.739044, 58.44972, 57.733753, 86.60083, 56.20545, 65.01166, 28.106277, 64.74431, 27.836334, 211.59091, 210.12589, 64.16469, 47.83545, 210.77592, 64.62692, 48.14713, 64.59712, 48.373253, 228.13481, 228.07607, 93.3842, 73.59876, 59.854126, 226.21779, 94.402115, 152.87236, 74.83824, 61.36279, 94.45308, 152.73476, 74.551155, 61.002483, 117.467255, 114.951836, 114.74983, 356.8746, 36.551254, 42.09614, 37.012768, 36.538616, 117.345505, 117.15218, 183.977, 385.33517, 38.682777, 113.331825, 39.23065, 38.681557, 114.647415, 121.293205, 356.21207, 36.825283, 42.587776, 37.418884, 36.83133, 121.167274, 356.27487, 36.842915, 42.643665, 37.426456, 36.834286, 247.60689, 247.43253, 111.599075, 177.06483, 112.31422, 111.68324, 98.57093, 173.89752, 99.405304, 98.57058, 241.51376, 110.282906, 115.097786, 110.82059, 110.19119, 97.604485, 104.25483, 98.21739, 97.60111, 110.258606, 115.091324, 110.791626, 110.16464, 97.70248, 104.33546, 98.295296, 97.70675, 138.31476, 133.4061, 132.84602, 26.650879, 32.08567, 27.371223, 27.001213, 138.76181, 138.28021, 27.959618, 101.75982, 28.353775, 27.940521, 133.34409, 27.063377, 32.04319, 27.090065, 27.050026, 27.050034, 32.122612, 27.401894, 26.684265, 103.37286, 98.44304, 97.826096, 104.187195, 103.375206, 98.44202, -3.2666092, -10.7258835, 34.194244, 49.956802, -1.7205353, -9.281334, -3.2838821, -10.731903, 25.777008, 6.8223343, 26.470604, -13.060196, 73.57635, 47.711403, 69.92262, 47.930626, 8.252373, 27.555061, -11.692993, 25.614143, 6.6709366, 26.36364, -13.092224, 197.80351, 194.17857, 34.46953, 50.502327, 118.17174, 197.98192, 85.945366, 107.46016, 34.232033, 50.511967, 119.96527, 32.676117, 29.043365, 28.333923, 228.44211, 46.789806, 33.262764, 32.569855, 273.5257, 28.95214, 228.16222, 47.830112, 227.86584, 47.80169, 55.912525, 52.138866, 51.383896, 60.86946, 21.682137, 56.8903, 56.10387, 83.99973, 52.46657, 62.236946, 22.530724, 62.047718, 21.780487, 210.67984, 208.61801, 64.056305, 37.41133, 209.22284, 64.62537, 38.330627, 64.598206, 38.0712, 228.12314, 228.05261, 88.3145, 73.59997, 49.729015, 226.20898, 90.199394, 152.86002, 74.8605, 50.79139, 90.31081, 152.72028, 74.534, 50.620003, 111.179855, 110.125305, 110.10967, 356.82373, 36.468307, 41.85187, 36.71793, 36.45116, 111.98978, 111.99132, 177.77245, 385.33337, 38.66707, 113.33403, 39.20847, 38.676483, 111.02583, 116.12388, 356.20596, 36.815178, 42.526318, 37.075974, 36.803307, 116.222046, 356.25934, 36.78506, 42.481236, 36.95606, 36.774223, 247.54752, 247.41872, 111.59384, 173.72766, 112.18237, 111.53374, 98.54457, 170.72537, 98.561325, 98.55179, 241.27682, 109.35464, 115.082306, 109.80031, 109.03585, 97.22908, 101.92171, 97.22843, 97.23474, 109.28408, 115.0674, 109.734764, 108.96532, 97.254265, 101.94597, 97.2639, 97.26107, 138.25745, 132.6081, 131.84818, 25.801392, 32.07215, 26.566162, 26.720795, 138.74527, 138.12125, 27.964668, 100.00918, 28.34143, 27.9422, 132.8088, 26.701012, 32.03173, 25.632805, 26.68573, 26.52729, 32.075027, 26.354614, 25.621223, 99.11878, 94.95999, 94.95465, 99.2468, 99.12834, 94.97504, -109.54373, -105.50975, -16.375473, 0.1129303, -106.94255, -102.82915, -109.54373, -105.50952, -73.424515, -78.370834, -44.441483, -109.66156, 20.18908, 11.519936, 42.050854, -2.6499786, -76.12399, -42.729614, -106.90762, -73.42406, -78.36804, -44.649887, -109.6613, 181.15863, 178.64653, -41.52214, -10.262573, 77.10714, 181.15712, 46.696323, 74.84701, -41.521667, -10.408325, 80.73192, -52.70987, -53.972015, -55.106476, 224.33005, -32.94603, -51.59854, -52.713577, 261.506, -53.97574, 223.80392, -30.758255, 223.74411, -30.156784, -11.070145, -14.580025, -15.730431, -2.576332, -39.969116, -10.053276, -11.17791, 54.39835, -14.703545, -0.45606995, -38.296677, -0.5069351, -40.30208, 198.04108, 194.31155, -10.025703, -66.165726, 194.69545, -7.9365845, -63.780746, -7.644905, -63.192276, 227.20459, 227.19858, 19.837784, -10.538094, -67.7202, 223.89061, 22.374146, 122.49463, -7.157089, -63.46881, 22.363182, 122.53535, -8.092339, -64.667786, 34.62525, 29.611183, 29.604576, 343.0805, -10.069359, -8.32579, -9.111824, -10.069923, 34.90587, 34.8993, 116.31981, 356.37958, -5.1239853, 75.257416, -4.1935196, -5.124542, 29.864983, 44.51342, 342.13208, -10.211571, -8.459267, -9.248917, -10.212128, 44.55201, 342.74744, -10.2096405, -8.457329, -9.246994, -10.210197, 218.29883, 218.34552, 27.910263, 103.42943, 28.69255, 27.911987, 9.357452, 91.684006, 10.229195, 9.357048, 210.79515, 30.981445, 33.974876, 31.756927, 30.983185, 13.832451, 15.558235, 14.692474, 13.832039, 31.026047, 34.019073, 31.801315, 31.027771, 13.864677, 15.590408, 14.724678, 13.864265, 109.55104, 109.41901, 108.98012, -41.878418, -39.291306, -39.639862, -40.74872, 109.9845, 109.552155, -34.586838, 52.08148, -33.51715, -34.587402, 109.42014, -39.63788, -38.192917, -39.649338, -39.638428, -40.75093, -39.294113, -39.642654, -41.88179, 23.54126, 21.028831, 20.148926, 24.400536, 23.540985, 21.02855]"
      ]
     },
     "execution_count": 108,
     "metadata": {},
     "output_type": "execute_result"
    }
   ],
   "source": [
    "temp"
   ]
  },
  {
   "cell_type": "markdown",
   "metadata": {},
   "source": []
  },
  {
   "cell_type": "code",
   "execution_count": 46,
   "metadata": {
    "vscode": {
     "languageId": "rust"
    }
   },
   "outputs": [
    {
     "ename": "Error",
     "evalue": "no method named `sort` found for enum `std::result::Result` in the current scope",
     "output_type": "error",
     "traceback": [
      "\u001b[31m[E0599] Error:\u001b[0m no method named `sort` found for enum `std::result::Result` in the current scope",
      "   \u001b[38;5;246m╭\u001b[0m\u001b[38;5;246m─\u001b[0m\u001b[38;5;246m[\u001b[0mcommand_46:1:1\u001b[38;5;246m]\u001b[0m",
      "   \u001b[38;5;246m│\u001b[0m",
      " \u001b[38;5;246m1 │\u001b[0m \u001b[38;5;249md\u001b[0m\u001b[38;5;249mf\u001b[0m\u001b[38;5;249m.\u001b[0m\u001b[38;5;54ms\u001b[0m\u001b[38;5;54mo\u001b[0m\u001b[38;5;54mr\u001b[0m\u001b[38;5;54mt\u001b[0m\u001b[38;5;249m(\u001b[0m\u001b[38;5;249m\"\u001b[0m\u001b[38;5;249me\u001b[0m\u001b[38;5;249mv\u001b[0m\u001b[38;5;249m\"\u001b[0m\u001b[38;5;249m,\u001b[0m\u001b[38;5;249m \u001b[0m\u001b[38;5;249mf\u001b[0m\u001b[38;5;249ma\u001b[0m\u001b[38;5;249ml\u001b[0m\u001b[38;5;249ms\u001b[0m\u001b[38;5;249me\u001b[0m\u001b[38;5;249m)\u001b[0m",
      " \u001b[38;5;240m  │\u001b[0m   \u001b[38;5;100m│\u001b[0m\u001b[38;5;54m─\u001b[0m\u001b[38;5;54m─\u001b[0m\u001b[38;5;54m┬\u001b[0m\u001b[38;5;54m─\u001b[0m  ",
      " \u001b[38;5;240m  │\u001b[0m   \u001b[38;5;100m╰\u001b[0m\u001b[38;5;100m─\u001b[0m\u001b[38;5;100m─\u001b[0m\u001b[38;5;100m─\u001b[0m\u001b[38;5;100m─\u001b[0m\u001b[38;5;100m─\u001b[0m\u001b[38;5;100m─\u001b[0m help: consider using `Result::expect` to unwrap the `polars::prelude::DataFrame` value, panicking if the value is a `Result::Err`: `.expect(\"REASON\")`",
      " \u001b[38;5;240m  │\u001b[0m      \u001b[38;5;54m│\u001b[0m   ",
      " \u001b[38;5;240m  │\u001b[0m      \u001b[38;5;54m╰\u001b[0m\u001b[38;5;54m─\u001b[0m\u001b[38;5;54m─\u001b[0m\u001b[38;5;54m─\u001b[0m error: no method named `sort` found for enum `std::result::Result` in the current scope",
      " \u001b[38;5;240m  │\u001b[0m ",
      " \u001b[38;5;240m  │\u001b[0m \u001b[38;5;115mNote\u001b[0m: note: the method `sort` exists on the type `polars::prelude::DataFrame`help: there is a method `or` with a similar name, but with different arguments",
      "\u001b[38;5;246m───╯\u001b[0m"
     ]
    }
   ],
   "source": [
    "df.sort(\"ev\", false)"
   ]
  },
  {
   "cell_type": "code",
   "execution_count": 96,
   "metadata": {
    "vscode": {
     "languageId": "rust"
    }
   },
   "outputs": [
    {
     "ename": "Error",
     "evalue": "failed to resolve: use of undeclared crate or module `polars`",
     "output_type": "error",
     "traceback": [
      "\u001b[31m[E0433] Error:\u001b[0m failed to resolve: use of undeclared crate or module `polars`"
     ]
    }
   ],
   "source": [
    "use polars::prelude::*;\n",
    "use std::collections::HashMap;"
   ]
  },
  {
   "cell_type": "code",
   "execution_count": null,
   "metadata": {
    "vscode": {
     "languageId": "rust"
    }
   },
   "outputs": [],
   "source": []
  }
 ],
 "metadata": {
  "kernelspec": {
   "display_name": "Rust",
   "language": "rust",
   "name": "rust"
  },
  "language_info": {
   "codemirror_mode": "rust",
   "file_extension": ".rs",
   "mimetype": "text/rust",
   "name": "Rust",
   "pygment_lexer": "rust",
   "version": ""
  }
 },
 "nbformat": 4,
 "nbformat_minor": 2
}
