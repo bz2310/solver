{
 "cells": [
  {
   "cell_type": "code",
   "execution_count": 2,
   "metadata": {
    "vscode": {
     "languageId": "rust"
    }
   },
   "outputs": [
    {
     "name": "stdout",
     "output_type": "stream",
     "text": [
      "The current directory is /home/bzhan/projects/postflop-solver\n"
     ]
    },
    {
     "name": "stdout",
     "output_type": "stream",
     "text": [
      "Successfully changed working directory to /home/bzhan/projects/postflop-solver!\n"
     ]
    }
   ],
   "source": [
    "use std::env;\n",
    "use std::path::Path;\n",
    "\n",
    "fn main() -> std::io::Result<()> {\n",
    "    let path = env::current_dir()?;\n",
    "    println!(\"The current directory is {}\", path.display());\n",
    "    Ok(())\n",
    "}\n",
    "main();\n",
    "\n",
    "let path = Path::new(\"/home/bzhan/projects/postflop-solver\");\n",
    "assert!(env::set_current_dir(&path).is_ok());\n",
    "println!(\"Successfully changed working directory to {}!\", path.display());"
   ]
  },
  {
   "cell_type": "code",
   "execution_count": null,
   "metadata": {
    "vscode": {
     "languageId": "rust"
    }
   },
   "outputs": [],
   "source": [
    "    /// Builds the action tree.\n",
    "    #[inline]\n",
    "    fn build_tree(&mut self) {\n",
    "        \n",
    "        let mut root = self.root.lock();\n",
    "        let curr_config = self.config();\n",
    "        *root = StudActionTreeNode::default();\n",
    "        root.board_state = curr_config.initial_state;\n",
    "\n",
    "        // CR-someday: if we implement all ins make sure to pass in the new\n",
    "        self.build_tree_recursive(&mut root, StudBuildTreeInfo::new(curr_config.small_bet_size));\n",
    "\n",
    "    }\n",
    "\n",
    "    #[inline]\n",
    "    fn get_bet_size(node: &StudBoardState, curr_config: &StudTreeConfig) -> i32 {\n",
    "        match node {\n",
    "            StudBoardState::ThirdStreet | StudBoardState::FourthStreet => curr_config.small_bet_size,\n",
    "            StudBoardState::FifthStreet | StudBoardState::SixthStreet | StudBoardState::SeventhStreet => curr_config.big_bet_size,\n",
    "        }\n",
    "    }\n",
    "\n",
    "    /// Recursively builds the action tree.\n",
    "    fn build_tree_recursive(&self, node: &mut StudActionTreeNode, info: StudBuildTreeInfo) {\n",
    "        let curr_config: &StudTreeConfig = self.config();\n",
    "\n",
    "        if node.is_terminal() {\n",
    "            // do nothing\n",
    "        } else if node.is_chance() {\n",
    "            let next_state = match node.board_state {\n",
    "                StudBoardState::ThirdStreet => StudBoardState::FourthStreet,\n",
    "                StudBoardState::FourthStreet => StudBoardState::FifthStreet,\n",
    "                StudBoardState::FifthStreet => StudBoardState::SixthStreet,\n",
    "                StudBoardState::SixthStreet => StudBoardState::SeventhStreet,\n",
    "                StudBoardState::SeventhStreet => unreachable!(),\n",
    "            };\n",
    "            let bet_size_on_this_street = StudActionTree::get_bet_size(&next_state, curr_config);\n",
    "\n",
    "            // <TODO> calculate new player, but need the chance cards... maybe search through self.history\n",
    "            // let next_player = StudActionTreeNode::calc_next_player(&node, )\n",
    "            let _next_player = PLAYER_OOP;\n",
    "\n",
    "            // Cr-someday: this is another spot to think about all-ins\n",
    "            node.actions_so_far_this_game.push(StudAction::Chance((0,0)));\n",
    "            \n",
    "            //<TODO> why can we just push default values onto StudActionTreeNode for the last two variables???\n",
    "            node.children.push(MutexLike::new(StudActionTreeNode {\n",
    "                player_whose_action: PLAYER_OOP,\n",
    "                board_state: next_state,\n",
    "                amount_wagered_so_far_this_game: node.amount_wagered_so_far_this_game,\n",
    "                ..Default::default()\n",
    "            }));\n",
    "\n",
    "            self.build_tree_recursive(\n",
    "                &mut node.children[0].lock(),\n",
    "                info.create_next(PLAYER_OOP, StudAction::Chance((0,0)), bet_size_on_this_street),\n",
    "            );\n",
    "        } else {\n",
    "            self.push_actions(node, &info);\n",
    "            let bet_size_on_this_street = StudActionTree::get_bet_size(&node.board_state, curr_config);\n",
    "            for (action, child) in node.actions_so_far_this_game.iter().zip(node.children.iter()) {\n",
    "                self.build_tree_recursive(\n",
    "                    &mut child.lock(),\n",
    "                    info.create_next(node.player_whose_action, *action, bet_size_on_this_street),\n",
    "                );\n",
    "            }\n",
    "        }\n",
    "    }\n",
    "\n",
    "    /// Pushes all possible actions to the given node.\n",
    "    fn push_actions(&self, node: &mut StudActionTreeNode, info: &StudBuildTreeInfo) {\n",
    "        let mut actions = Vec::new();\n",
    "        let player = node.player_whose_action;\n",
    "        let opponent = node.player_whose_action ^ 1;\n",
    "        let curr_config: &StudTreeConfig = self.config();\n",
    "\n",
    "        match info.prev_action {\n",
    "            StudAction::Chance(_) | StudAction::None => {\n",
    "                actions.push(StudAction::Check);\n",
    "                actions.push(StudAction::Bet(info.bet_size_on_this_street));\n",
    "            }\n",
    "            StudAction::Check => {\n",
    "                actions.push(StudAction::Check);     \n",
    "                actions.push(StudAction::Bet(info.bet_size_on_this_street));\n",
    "            }\n",
    "            StudAction::Bet(_) | StudAction::Raise(_) => {\n",
    "                actions.push(StudAction::Fold);\n",
    "                actions.push(StudAction::Call);\n",
    "\n",
    "                if info.num_bets_on_this_street < curr_config.bets_cap { \n",
    "                    actions.push(StudAction::Raise(info.bet_size_on_this_street * (info.num_bets_on_this_street + 1))); \n",
    "                }\n",
    "            }\n",
    "            StudAction::Call => {\n",
    "            }\n",
    "            StudAction::Fold => {\n",
    "            }\n",
    "        }\n",
    "\n",
    "        // remove duplicates\n",
    "        actions.sort_unstable();\n",
    "        actions.dedup();\n",
    "\n",
    "        let player_after_call = match node.board_state {\n",
    "            StudBoardState::SeventhStreet => PLAYER_TERMINAL_FLAG,\n",
    "            _ => PLAYER_CHANCE_FLAG | player,\n",
    "        };\n",
    "\n",
    "        let player_after_check = match player {\n",
    "            PLAYER_OOP => opponent,\n",
    "            _ => player_after_call,\n",
    "        };\n",
    "\n",
    "        // push actions\n",
    "        for action in actions {\n",
    "            let mut amount = node.amount_wagered_so_far_this_game;\n",
    "            let next_player = match action {\n",
    "                StudAction::Fold => PLAYER_FOLD_FLAG | player,\n",
    "                StudAction::Check => player_after_check,\n",
    "                StudAction::Call => {\n",
    "                    amount += info.bet_size_on_this_street;\n",
    "                    player_after_call\n",
    "                }\n",
    "                StudAction::Bet(_) | StudAction::Raise(_) => {\n",
    "                    amount += info.bet_size_on_this_street;\n",
    "                    opponent\n",
    "                }\n",
    "                _ => panic!(\"Unexpected action: {action:?}\"),\n",
    "            };\n",
    "\n",
    "            node.actions_so_far_this_game.push(action);\n",
    "            node.children.push(MutexLike::new(StudActionTreeNode {\n",
    "                player_whose_action: next_player,\n",
    "                board_state: node.board_state,\n",
    "                amount_wagered_so_far_this_game: amount,\n",
    "                ..Default::default()\n",
    "            }));\n",
    "        }\n",
    "\n",
    "        node.actions_so_far_this_game.shrink_to_fit();\n",
    "        node.children.shrink_to_fit();\n",
    "    }"
   ]
  },
  {
   "cell_type": "code",
   "execution_count": null,
   "metadata": {
    "vscode": {
     "languageId": "rust"
    }
   },
   "outputs": [],
   "source": [
    "impl StudBuildTreeInfo {\n",
    "    #[inline]\n",
    "    fn new(bet_size: i32) -> Self {\n",
    "        Self {\n",
    "            prev_action: StudAction::None,\n",
    "            num_bets_on_this_street: 0,\n",
    "            bet_size_on_this_street:bet_size,\n",
    "        }\n",
    "    }\n",
    "\n",
    "    #[inline]\n",
    "    // Don't really need player for now if we don't have all-in considerations\n",
    "    fn create_next(&self, _player: u8, action: StudAction, bet_size_on_this_street: i32) -> Self {\n",
    "        let mut num_bets_on_this_street = self.num_bets_on_this_street;\n",
    "        \n",
    "        match action {\n",
    "            StudAction::Check => {\n",
    "            }\n",
    "            StudAction::Call => {\n",
    "                num_bets_on_this_street = 0;\n",
    "            }\n",
    "            StudAction::Bet(_) => {\n",
    "                num_bets_on_this_street += 1;\n",
    "            }\n",
    "            StudAction::Raise(_) => {\n",
    "                num_bets_on_this_street += 1;\n",
    "            }\n",
    "            _ => {}\n",
    "        }\n",
    "\n",
    "        // bet_size_on_this_street only encodes whether we are in small or big bet world\n",
    "        // the actual bet size can be considered num_bets_on_this_street * bet_size_on_this_street\n",
    "        StudBuildTreeInfo {\n",
    "            prev_action: action,\n",
    "            num_bets_on_this_street,\n",
    "            bet_size_on_this_street, \n",
    "        }\n",
    "    }\n",
    "}\n",
    "\n",
    "/// Returns the number of action nodes of [flop, turn, river].\n",
    "#[allow(dead_code)]\n",
    "pub(crate) fn count_num_action_nodes(node: &StudActionTreeNode) -> [u64; 3] {\n",
    "    let mut ret = [0, 0, 0];\n",
    "    count_num_action_nodes_recursive(node, 0, &mut ret);\n",
    "    if ret[1] == 0 {\n",
    "        ret = [0, 0, ret[0]];\n",
    "    } else if ret[2] == 0 {\n",
    "        ret = [0, ret[0], ret[1]];\n",
    "    }\n",
    "    ret\n",
    "}\n",
    "\n",
    "#[allow(dead_code)]\n",
    "fn count_num_action_nodes_recursive(node: &StudActionTreeNode, street: usize, count: &mut [u64; 3]) {\n",
    "    count[street] += 1;\n",
    "    if node.is_terminal() {\n",
    "        // do nothing\n",
    "    } else if node.is_chance() {\n",
    "        count_num_action_nodes_recursive(&node.children[0].lock(), street + 1, count);\n",
    "    } else {\n",
    "        for child in &node.children {\n",
    "            count_num_action_nodes_recursive(&child.lock(), street, count);\n",
    "        }\n",
    "    }\n",
    "}\n"
   ]
  },
  {
   "cell_type": "code",
   "execution_count": 2,
   "metadata": {
    "vscode": {
     "languageId": "rust"
    }
   },
   "outputs": [],
   "source": [
    ":dep postflop-solver = { path = \"/home/bzhan/projects/postflop-solver\" }\n",
    "use postflop_solver::*;"
   ]
  },
  {
   "cell_type": "code",
   "execution_count": 21,
   "metadata": {
    "vscode": {
     "languageId": "rust"
    }
   },
   "outputs": [
    {
     "ename": "Error",
     "evalue": "variable does not need to be mutable",
     "output_type": "error",
     "traceback": [
      "variable does not need to be mutable"
     ]
    },
    {
     "ename": "Error",
     "evalue": "constant `PLAYER_OOP` is never used",
     "output_type": "error",
     "traceback": [
      "constant `PLAYER_OOP` is never used"
     ]
    },
    {
     "ename": "Error",
     "evalue": "constant `PLAYER_FOLD_FLAG` is never used",
     "output_type": "error",
     "traceback": [
      "constant `PLAYER_FOLD_FLAG` is never used"
     ]
    },
    {
     "ename": "Error",
     "evalue": "struct `StudBuildTreeInfo` is never constructed",
     "output_type": "error",
     "traceback": [
      "struct `StudBuildTreeInfo` is never constructed"
     ]
    },
    {
     "ename": "Error",
     "evalue": "4 warnings emitted",
     "output_type": "error",
     "traceback": [
      "4 warnings emitted"
     ]
    },
    {
     "ename": "Error",
     "evalue": "borrowed data escapes outside of function",
     "output_type": "error",
     "traceback": [
      "borrowed data escapes outside of function"
     ]
    }
   ],
   "source": [
    "let mut tree_config = StudTreeConfig {\n",
    "    initial_state: StudBoardState::SixthStreet,\n",
    "    starting_pot_from_antes: 10,\n",
    "    effective_stack: 100,\n",
    "    bets_cap: 4,\n",
    "    small_bet_size: 2,\n",
    "    big_bet_size: 4,\n",
    "};"
   ]
  },
  {
   "cell_type": "code",
   "execution_count": null,
   "metadata": {
    "vscode": {
     "languageId": "rust"
    }
   },
   "outputs": [],
   "source": [
    "let action_tree = StudActionTree::new(tree_config).unwrap();"
   ]
  },
  {
   "cell_type": "code",
   "execution_count": null,
   "metadata": {
    "vscode": {
     "languageId": "rust"
    }
   },
   "outputs": [],
   "source": []
  },
  {
   "cell_type": "code",
   "execution_count": 9,
   "metadata": {
    "vscode": {
     "languageId": "rust"
    }
   },
   "outputs": [],
   "source": [
    "use polars::prelude::*;\n",
    "use std::collections::HashMap;\n",
    "\n",
    "fn main() -> PostFlopGame { //Result<(DataFrame, DataFrame)> {\n",
    "    // ranges of OOP and IP in string format\n",
    "    // see the documentation of `Range` for more details about the format\n",
    "    let oop_range = \"66+,A8s+,A5s-A4s,AJo+,K9s+,KQo,QTs+,JTs,96s+,85s+,75s+,65s,54s\";\n",
    "    let ip_range = \"QQ-22,AQs-A2s,ATo+,K5s+,KJo+,Q8s+,J8s+,T7s+,96s+,86s+,75s+,64s+,53s+\";\n",
    "\n",
    "    let card_config = CardConfig {\n",
    "        range: [oop_range.parse().unwrap(), ip_range.parse().unwrap()],\n",
    "        flop: flop_from_str(\"Td9d6h\").unwrap(),\n",
    "        turn: card_from_str(\"Qc\").unwrap(),\n",
    "        river: NOT_DEALT,\n",
    "    };\n",
    "\n",
    "    // bet sizes -> 60% of the pot, geometric size, and all-in\n",
    "    // raise sizes -> 2.5x of the previous bet\n",
    "    // see the documentation of `BetSizeOptions` for more details\n",
    "    let bet_sizes = BetSizeOptions::try_from((\"60%, e, a\", \"2.5x\")).unwrap();\n",
    "\n",
    "    let tree_config = TreeConfig {\n",
    "        initial_state: BoardState::Turn, // must match `card_config`\n",
    "        starting_pot: 200,\n",
    "        effective_stack: 900,\n",
    "        rake_rate: 0.0,\n",
    "        rake_cap: 0.0,\n",
    "        flop_bet_sizes: [bet_sizes.clone(), bet_sizes.clone()], // [OOP, IP]\n",
    "        turn_bet_sizes: [bet_sizes.clone(), bet_sizes.clone()],\n",
    "        river_bet_sizes: [bet_sizes.clone(), bet_sizes],\n",
    "        turn_donk_sizes: None, // use default bet sizes\n",
    "        river_donk_sizes: Some(DonkSizeOptions::try_from(\"50%\").unwrap()),\n",
    "        add_allin_threshold: 1.5, // add all-in if (maximum bet size) <= 1.5x pot\n",
    "        force_allin_threshold: 0.15, // force all-in if (SPR after the opponent's call) <= 0.15\n",
    "        merging_threshold: 0.1,\n",
    "    };\n",
    "\n",
    "    // build the game tree\n",
    "    // `ActionTree` can be edited manually after construction\n",
    "    let action_tree = ActionTree::new(tree_config).unwrap();\n",
    "    let mut game = PostFlopGame::with_config(card_config, action_tree).unwrap();\n",
    "\n",
    "    // obtain the private hands\n",
    "    let oop_cards: &[(u8, u8)] = game.private_cards(0);\n",
    "    let oop_cards_str = holes_to_strings(oop_cards).unwrap();\n",
    "    println!(\"{:?}\", oop_cards_str);\n",
    "\n",
    "    let ip_cards = game.private_cards(1);\n",
    "    let ip_cards_str = holes_to_strings(ip_cards).unwrap();\n",
    "    println!(\"{:?}\", ip_cards_str);\n",
    "    \n",
    "    let (mem_usage, mem_usage_compressed) = game.memory_usage();\n",
    "    println!(\n",
    "        \"Memory usage without compression (32-bit float): {:.2}GB\",\n",
    "        mem_usage as f64 / (1024.0 * 1024.0 * 1024.0)\n",
    "    );\n",
    "    println!(\n",
    "        \"Memory usage with compression (16-bit integer): {:.2}GB\",\n",
    "        mem_usage_compressed as f64 / (1024.0 * 1024.0 * 1024.0)\n",
    "    );\n",
    "\n",
    "    game.allocate_memory(false);\n",
    "\n",
    "    let max_num_iterations = 1000;\n",
    "    let target_exploitability = game.tree_config().starting_pot as f32 * 0.005; // 0.5% of the pot\n",
    "    println!(\"Target exploitability: {:.2}\", target_exploitability);\n",
    "    //let exploitability = solve(&mut game, max_num_iterations, target_exploitability, true);\n",
    "    //println!(\"Exploitability: {:.2}\", exploitability);\n",
    "    \n",
    "    let mut last_exploit = 1000.0;\n",
    "    for i in 0..max_num_iterations {\n",
    "        solve_step(&game, i);\n",
    "        if (i + 1) % 100 == 0 {\n",
    "            let exploitability = compute_exploitability(&game);\n",
    "            println!(\"Exploitability on iteration {}: {:.2}\", i, exploitability);\n",
    "            if ((last_exploit - exploitability) < 0.01) {\n",
    "                break\n",
    "            }\n",
    "            last_exploit=exploitability;\n",
    "        }\n",
    "     }\n",
    "    finalize(&mut game);\n",
    "    game.cache_normalized_weights();\n",
    "    game\n",
    "    }"
   ]
  },
  {
   "cell_type": "code",
   "execution_count": 10,
   "metadata": {
    "vscode": {
     "languageId": "rust"
    }
   },
   "outputs": [
    {
     "data": {
      "text/plain": [
       "BetSizeOptions { bet: [PotRelative(0.6), Geometric(0, inf), AllIn], raise: [PrevBetRelative(2.5)] }"
      ]
     },
     "execution_count": 10,
     "metadata": {},
     "output_type": "execute_result"
    }
   ],
   "source": [
    "bet_sizes"
   ]
  },
  {
   "cell_type": "code",
   "execution_count": null,
   "metadata": {
    "vscode": {
     "languageId": "rust"
    }
   },
   "outputs": [],
   "source": []
  }
 ],
 "metadata": {
  "kernelspec": {
   "display_name": "Rust",
   "language": "rust",
   "name": "rust"
  },
  "language_info": {
   "codemirror_mode": "rust",
   "file_extension": ".rs",
   "mimetype": "text/rust",
   "name": "Rust",
   "pygment_lexer": "rust",
   "version": ""
  }
 },
 "nbformat": 4,
 "nbformat_minor": 2
}
