{
 "cells": [
  {
   "cell_type": "code",
   "execution_count": 2,
   "metadata": {
    "vscode": {
     "languageId": "rust"
    }
   },
   "outputs": [
    {
     "name": "stdout",
     "output_type": "stream",
     "text": [
      "The current directory is /home/bzhan/projects/postflop-solver\n"
     ]
    },
    {
     "name": "stdout",
     "output_type": "stream",
     "text": [
      "Successfully changed working directory to /home/bzhan/projects/postflop-solver!\n"
     ]
    }
   ],
   "source": [
    "use std::env;\n",
    "use std::path::Path;\n",
    "\n",
    "fn main() -> std::io::Result<()> {\n",
    "    let path = env::current_dir()?;\n",
    "    println!(\"The current directory is {}\", path.display());\n",
    "    Ok(())\n",
    "}\n",
    "main();\n",
    "\n",
    "let path = Path::new(\"/home/bzhan/projects/postflop-solver\");\n",
    "assert!(env::set_current_dir(&path).is_ok());\n",
    "println!(\"Successfully changed working directory to {}!\", path.display());"
   ]
  },
  {
   "cell_type": "code",
   "execution_count": 14,
   "metadata": {
    "vscode": {
     "languageId": "rust"
    }
   },
   "outputs": [],
   "source": [
    ":dep postflop-solver = { path = \"/home/bzhan/projects/postflop-solver\" }\n",
    "use postflop_solver::*;"
   ]
  },
  {
   "cell_type": "code",
   "execution_count": 16,
   "metadata": {
    "vscode": {
     "languageId": "rust"
    }
   },
   "outputs": [
    {
     "ename": "Error",
     "evalue": "expected value, found enum `StudAction`",
     "output_type": "error",
     "traceback": [
      "\u001b[31m[E0423] Error:\u001b[0m expected value, found enum `StudAction`",
      "   \u001b[38;5;246m╭\u001b[0m\u001b[38;5;246m─\u001b[0m\u001b[38;5;246m[\u001b[0mcommand_16:1:1\u001b[38;5;246m]\u001b[0m",
      "   \u001b[38;5;246m│\u001b[0m",
      " \u001b[38;5;246m1 │\u001b[0m \u001b[38;5;54mS\u001b[0m\u001b[38;5;54mt\u001b[0m\u001b[38;5;54mu\u001b[0m\u001b[38;5;54md\u001b[0m\u001b[38;5;54mA\u001b[0m\u001b[38;5;54mc\u001b[0m\u001b[38;5;54mt\u001b[0m\u001b[38;5;54mi\u001b[0m\u001b[38;5;54mo\u001b[0m\u001b[38;5;54mn\u001b[0m",
      " \u001b[38;5;240m  │\u001b[0m \u001b[38;5;54m─\u001b[0m\u001b[38;5;54m─\u001b[0m\u001b[38;5;54m─\u001b[0m\u001b[38;5;54m─\u001b[0m\u001b[38;5;54m─\u001b[0m\u001b[38;5;54m┬\u001b[0m\u001b[38;5;54m─\u001b[0m\u001b[38;5;54m─\u001b[0m\u001b[38;5;54m─\u001b[0m\u001b[38;5;54m─\u001b[0m  ",
      " \u001b[38;5;240m  │\u001b[0m      \u001b[38;5;54m╰\u001b[0m\u001b[38;5;54m─\u001b[0m\u001b[38;5;54m─\u001b[0m\u001b[38;5;54m─\u001b[0m\u001b[38;5;54m─\u001b[0m\u001b[38;5;54m─\u001b[0m\u001b[38;5;54m─\u001b[0m error: expected value, found enum `StudAction`",
      "\u001b[38;5;246m───╯\u001b[0m"
     ]
    }
   ],
   "source": []
  },
  {
   "cell_type": "code",
   "execution_count": 17,
   "metadata": {
    "vscode": {
     "languageId": "rust"
    }
   },
   "outputs": [],
   "source": [
    "let mut tree_config = StudTreeConfig {\n",
    "    initial_state: StudBoardState::SixthStreet,\n",
    "    starting_pot_from_antes: 10,\n",
    "    effective_stack: 100,\n",
    "    bets_cap: 4,\n",
    "    small_bet_size: 2,\n",
    "    big_bet_size: 4,\n",
    "};"
   ]
  },
  {
   "cell_type": "code",
   "execution_count": null,
   "metadata": {
    "vscode": {
     "languageId": "rust"
    }
   },
   "outputs": [],
   "source": [
    "let action_tree = StudActionTree::new(tree_config).unwrap();"
   ]
  },
  {
   "cell_type": "code",
   "execution_count": null,
   "metadata": {
    "vscode": {
     "languageId": "rust"
    }
   },
   "outputs": [],
   "source": []
  },
  {
   "cell_type": "code",
   "execution_count": 9,
   "metadata": {
    "vscode": {
     "languageId": "rust"
    }
   },
   "outputs": [],
   "source": [
    "use polars::prelude::*;\n",
    "use std::collections::HashMap;\n",
    "\n",
    "fn main() -> PostFlopGame { //Result<(DataFrame, DataFrame)> {\n",
    "    // ranges of OOP and IP in string format\n",
    "    // see the documentation of `Range` for more details about the format\n",
    "    let oop_range = \"66+,A8s+,A5s-A4s,AJo+,K9s+,KQo,QTs+,JTs,96s+,85s+,75s+,65s,54s\";\n",
    "    let ip_range = \"QQ-22,AQs-A2s,ATo+,K5s+,KJo+,Q8s+,J8s+,T7s+,96s+,86s+,75s+,64s+,53s+\";\n",
    "\n",
    "    let card_config = CardConfig {\n",
    "        range: [oop_range.parse().unwrap(), ip_range.parse().unwrap()],\n",
    "        flop: flop_from_str(\"Td9d6h\").unwrap(),\n",
    "        turn: card_from_str(\"Qc\").unwrap(),\n",
    "        river: NOT_DEALT,\n",
    "    };\n",
    "\n",
    "    // bet sizes -> 60% of the pot, geometric size, and all-in\n",
    "    // raise sizes -> 2.5x of the previous bet\n",
    "    // see the documentation of `BetSizeOptions` for more details\n",
    "    let bet_sizes = BetSizeOptions::try_from((\"60%, e, a\", \"2.5x\")).unwrap();\n",
    "\n",
    "    let tree_config = TreeConfig {\n",
    "        initial_state: BoardState::Turn, // must match `card_config`\n",
    "        starting_pot: 200,\n",
    "        effective_stack: 900,\n",
    "        rake_rate: 0.0,\n",
    "        rake_cap: 0.0,\n",
    "        flop_bet_sizes: [bet_sizes.clone(), bet_sizes.clone()], // [OOP, IP]\n",
    "        turn_bet_sizes: [bet_sizes.clone(), bet_sizes.clone()],\n",
    "        river_bet_sizes: [bet_sizes.clone(), bet_sizes],\n",
    "        turn_donk_sizes: None, // use default bet sizes\n",
    "        river_donk_sizes: Some(DonkSizeOptions::try_from(\"50%\").unwrap()),\n",
    "        add_allin_threshold: 1.5, // add all-in if (maximum bet size) <= 1.5x pot\n",
    "        force_allin_threshold: 0.15, // force all-in if (SPR after the opponent's call) <= 0.15\n",
    "        merging_threshold: 0.1,\n",
    "    };\n",
    "\n",
    "    // build the game tree\n",
    "    // `ActionTree` can be edited manually after construction\n",
    "    let action_tree = ActionTree::new(tree_config).unwrap();\n",
    "    let mut game = PostFlopGame::with_config(card_config, action_tree).unwrap();\n",
    "\n",
    "    // obtain the private hands\n",
    "    let oop_cards: &[(u8, u8)] = game.private_cards(0);\n",
    "    let oop_cards_str = holes_to_strings(oop_cards).unwrap();\n",
    "    println!(\"{:?}\", oop_cards_str);\n",
    "\n",
    "    let ip_cards = game.private_cards(1);\n",
    "    let ip_cards_str = holes_to_strings(ip_cards).unwrap();\n",
    "    println!(\"{:?}\", ip_cards_str);\n",
    "    \n",
    "    let (mem_usage, mem_usage_compressed) = game.memory_usage();\n",
    "    println!(\n",
    "        \"Memory usage without compression (32-bit float): {:.2}GB\",\n",
    "        mem_usage as f64 / (1024.0 * 1024.0 * 1024.0)\n",
    "    );\n",
    "    println!(\n",
    "        \"Memory usage with compression (16-bit integer): {:.2}GB\",\n",
    "        mem_usage_compressed as f64 / (1024.0 * 1024.0 * 1024.0)\n",
    "    );\n",
    "\n",
    "    game.allocate_memory(false);\n",
    "\n",
    "    let max_num_iterations = 1000;\n",
    "    let target_exploitability = game.tree_config().starting_pot as f32 * 0.005; // 0.5% of the pot\n",
    "    println!(\"Target exploitability: {:.2}\", target_exploitability);\n",
    "    //let exploitability = solve(&mut game, max_num_iterations, target_exploitability, true);\n",
    "    //println!(\"Exploitability: {:.2}\", exploitability);\n",
    "    \n",
    "    let mut last_exploit = 1000.0;\n",
    "    for i in 0..max_num_iterations {\n",
    "        solve_step(&game, i);\n",
    "        if (i + 1) % 100 == 0 {\n",
    "            let exploitability = compute_exploitability(&game);\n",
    "            println!(\"Exploitability on iteration {}: {:.2}\", i, exploitability);\n",
    "            if ((last_exploit - exploitability) < 0.01) {\n",
    "                break\n",
    "            }\n",
    "            last_exploit=exploitability;\n",
    "        }\n",
    "     }\n",
    "    finalize(&mut game);\n",
    "    game.cache_normalized_weights();\n",
    "    game\n",
    "    }"
   ]
  },
  {
   "cell_type": "code",
   "execution_count": 10,
   "metadata": {
    "vscode": {
     "languageId": "rust"
    }
   },
   "outputs": [
    {
     "data": {
      "text/plain": [
       "BetSizeOptions { bet: [PotRelative(0.6), Geometric(0, inf), AllIn], raise: [PrevBetRelative(2.5)] }"
      ]
     },
     "execution_count": 10,
     "metadata": {},
     "output_type": "execute_result"
    }
   ],
   "source": [
    "bet_sizes"
   ]
  },
  {
   "cell_type": "code",
   "execution_count": null,
   "metadata": {
    "vscode": {
     "languageId": "rust"
    }
   },
   "outputs": [],
   "source": []
  }
 ],
 "metadata": {
  "kernelspec": {
   "display_name": "Rust",
   "language": "rust",
   "name": "rust"
  },
  "language_info": {
   "codemirror_mode": "rust",
   "file_extension": ".rs",
   "mimetype": "text/rust",
   "name": "Rust",
   "pygment_lexer": "rust",
   "version": ""
  }
 },
 "nbformat": 4,
 "nbformat_minor": 2
}
